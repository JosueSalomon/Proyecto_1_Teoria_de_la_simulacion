{
 "cells": [
  {
   "cell_type": "markdown",
   "metadata": {},
   "source": [
    "#### Importacion de librerias "
   ]
  },
  {
   "cell_type": "code",
   "execution_count": 1,
   "metadata": {},
   "outputs": [],
   "source": [
    "import random\n",
    "import pandas as pd\n",
    "import numpy as np\n",
    "\n",
    "import matplotlib.pyplot as plt\n",
    "\n",
    "from scipy.stats import truncnorm"
   ]
  },
  {
   "cell_type": "markdown",
   "metadata": {},
   "source": [
    "#### Leyendo el dataset"
   ]
  },
  {
   "cell_type": "code",
   "execution_count": 2,
   "metadata": {},
   "outputs": [],
   "source": [
    "df = pd.read_csv('Student_Mental_Stress_and_Coping_Mechanisms.csv')"
   ]
  },
  {
   "cell_type": "code",
   "execution_count": 21,
   "metadata": {},
   "outputs": [
    {
     "data": {
      "text/html": [
       "<div>\n",
       "<style scoped>\n",
       "    .dataframe tbody tr th:only-of-type {\n",
       "        vertical-align: middle;\n",
       "    }\n",
       "\n",
       "    .dataframe tbody tr th {\n",
       "        vertical-align: top;\n",
       "    }\n",
       "\n",
       "    .dataframe thead th {\n",
       "        text-align: right;\n",
       "    }\n",
       "</style>\n",
       "<table border=\"1\" class=\"dataframe\">\n",
       "  <thead>\n",
       "    <tr style=\"text-align: right;\">\n",
       "      <th></th>\n",
       "      <th>ID</th>\n",
       "      <th>Age</th>\n",
       "      <th>Gender</th>\n",
       "      <th>GPA</th>\n",
       "      <th>Study_Hours</th>\n",
       "      <th>Social_Media</th>\n",
       "      <th>Sleep</th>\n",
       "      <th>Exercise</th>\n",
       "      <th>Family_Support</th>\n",
       "      <th>Financial_Stress</th>\n",
       "      <th>Peer_Pressure</th>\n",
       "      <th>Relationship_Stress</th>\n",
       "      <th>Mental_Stress</th>\n",
       "      <th>Counseling</th>\n",
       "      <th>Diet</th>\n",
       "      <th>Coping_Strategies</th>\n",
       "      <th>Cognitive_Distortions</th>\n",
       "      <th>Mental_Health_History</th>\n",
       "      <th>Medical_Condition</th>\n",
       "      <th>Substance_Use</th>\n",
       "    </tr>\n",
       "  </thead>\n",
       "  <tbody>\n",
       "    <tr>\n",
       "      <th>0</th>\n",
       "      <td>802-17-3671</td>\n",
       "      <td>22</td>\n",
       "      <td>Female</td>\n",
       "      <td>2</td>\n",
       "      <td>9</td>\n",
       "      <td>2</td>\n",
       "      <td>12</td>\n",
       "      <td>2</td>\n",
       "      <td>1</td>\n",
       "      <td>1</td>\n",
       "      <td>3</td>\n",
       "      <td>5</td>\n",
       "      <td>9</td>\n",
       "      <td>No</td>\n",
       "      <td>1</td>\n",
       "      <td>Walking or Nature Walks</td>\n",
       "      <td>4</td>\n",
       "      <td>No</td>\n",
       "      <td>Yes</td>\n",
       "      <td>1</td>\n",
       "    </tr>\n",
       "    <tr>\n",
       "      <th>1</th>\n",
       "      <td>871-12-8572</td>\n",
       "      <td>25</td>\n",
       "      <td>Female</td>\n",
       "      <td>0</td>\n",
       "      <td>28</td>\n",
       "      <td>0</td>\n",
       "      <td>6</td>\n",
       "      <td>0</td>\n",
       "      <td>1</td>\n",
       "      <td>1</td>\n",
       "      <td>1</td>\n",
       "      <td>2</td>\n",
       "      <td>9</td>\n",
       "      <td>Yes</td>\n",
       "      <td>3</td>\n",
       "      <td>Meditation</td>\n",
       "      <td>2</td>\n",
       "      <td>Yes</td>\n",
       "      <td>No</td>\n",
       "      <td>1</td>\n",
       "    </tr>\n",
       "    <tr>\n",
       "      <th>2</th>\n",
       "      <td>495-13-2672</td>\n",
       "      <td>24</td>\n",
       "      <td>Female</td>\n",
       "      <td>0</td>\n",
       "      <td>45</td>\n",
       "      <td>3</td>\n",
       "      <td>12</td>\n",
       "      <td>10</td>\n",
       "      <td>3</td>\n",
       "      <td>3</td>\n",
       "      <td>1</td>\n",
       "      <td>4</td>\n",
       "      <td>9</td>\n",
       "      <td>Yes</td>\n",
       "      <td>5</td>\n",
       "      <td>Reading</td>\n",
       "      <td>1</td>\n",
       "      <td>Yes</td>\n",
       "      <td>Yes</td>\n",
       "      <td>3</td>\n",
       "    </tr>\n",
       "    <tr>\n",
       "      <th>3</th>\n",
       "      <td>365-77-2496</td>\n",
       "      <td>20</td>\n",
       "      <td>Male</td>\n",
       "      <td>2</td>\n",
       "      <td>8</td>\n",
       "      <td>7</td>\n",
       "      <td>7</td>\n",
       "      <td>4</td>\n",
       "      <td>1</td>\n",
       "      <td>3</td>\n",
       "      <td>2</td>\n",
       "      <td>5</td>\n",
       "      <td>1</td>\n",
       "      <td>No</td>\n",
       "      <td>1</td>\n",
       "      <td>Social Media Engagement</td>\n",
       "      <td>2</td>\n",
       "      <td>Yes</td>\n",
       "      <td>No</td>\n",
       "      <td>4</td>\n",
       "    </tr>\n",
       "    <tr>\n",
       "      <th>4</th>\n",
       "      <td>664-76-5622</td>\n",
       "      <td>28</td>\n",
       "      <td>Male</td>\n",
       "      <td>0</td>\n",
       "      <td>14</td>\n",
       "      <td>6</td>\n",
       "      <td>8</td>\n",
       "      <td>1</td>\n",
       "      <td>2</td>\n",
       "      <td>4</td>\n",
       "      <td>4</td>\n",
       "      <td>2</td>\n",
       "      <td>7</td>\n",
       "      <td>Yes</td>\n",
       "      <td>1</td>\n",
       "      <td>Exercise</td>\n",
       "      <td>1</td>\n",
       "      <td>Yes</td>\n",
       "      <td>No</td>\n",
       "      <td>3</td>\n",
       "    </tr>\n",
       "  </tbody>\n",
       "</table>\n",
       "</div>"
      ],
      "text/plain": [
       "            ID  Age  Gender  GPA  Study_Hours  Social_Media  Sleep  Exercise  \\\n",
       "0  802-17-3671   22  Female    2            9             2     12         2   \n",
       "1  871-12-8572   25  Female    0           28             0      6         0   \n",
       "2  495-13-2672   24  Female    0           45             3     12        10   \n",
       "3  365-77-2496   20    Male    2            8             7      7         4   \n",
       "4  664-76-5622   28    Male    0           14             6      8         1   \n",
       "\n",
       "   Family_Support  Financial_Stress  Peer_Pressure  Relationship_Stress  \\\n",
       "0               1                 1              3                    5   \n",
       "1               1                 1              1                    2   \n",
       "2               3                 3              1                    4   \n",
       "3               1                 3              2                    5   \n",
       "4               2                 4              4                    2   \n",
       "\n",
       "   Mental_Stress Counseling  Diet        Coping_Strategies  \\\n",
       "0              9         No     1  Walking or Nature Walks   \n",
       "1              9        Yes     3               Meditation   \n",
       "2              9        Yes     5                  Reading   \n",
       "3              1         No     1  Social Media Engagement   \n",
       "4              7        Yes     1                 Exercise   \n",
       "\n",
       "   Cognitive_Distortions Mental_Health_History Medical_Condition  \\\n",
       "0                      4                    No               Yes   \n",
       "1                      2                   Yes                No   \n",
       "2                      1                   Yes               Yes   \n",
       "3                      2                   Yes                No   \n",
       "4                      1                   Yes                No   \n",
       "\n",
       "   Substance_Use  \n",
       "0              1  \n",
       "1              1  \n",
       "2              3  \n",
       "3              4  \n",
       "4              3  "
      ]
     },
     "execution_count": 21,
     "metadata": {},
     "output_type": "execute_result"
    }
   ],
   "source": [
    "df.head(5)\n"
   ]
  },
  {
   "cell_type": "code",
   "execution_count": 22,
   "metadata": {},
   "outputs": [
    {
     "data": {
      "text/plain": [
       "760"
      ]
     },
     "execution_count": 22,
     "metadata": {},
     "output_type": "execute_result"
    }
   ],
   "source": [
    "##Cantidad de registros\n",
    "df.shape[0]"
   ]
  },
  {
   "cell_type": "markdown",
   "metadata": {},
   "source": [
    "##### Analizando tipos de datos"
   ]
  },
  {
   "cell_type": "code",
   "execution_count": 19,
   "metadata": {},
   "outputs": [
    {
     "data": {
      "text/plain": [
       "ID                       object\n",
       "Age                       int64\n",
       "Gender                   object\n",
       "GPA                       int64\n",
       "Study_Hours               int64\n",
       "Social_Media              int64\n",
       "Sleep                     int64\n",
       "Exercise                  int64\n",
       "Family_Support            int64\n",
       "Financial_Stress          int64\n",
       "Peer_Pressure             int64\n",
       "Relationship_Stress       int64\n",
       "Mental_Stress             int64\n",
       "Counseling               object\n",
       "Diet                      int64\n",
       "Coping_Strategies        object\n",
       "Cognitive_Distortions     int64\n",
       "Mental_Health_History    object\n",
       "Medical_Condition        object\n",
       "Substance_Use             int64\n",
       "dtype: object"
      ]
     },
     "execution_count": 19,
     "metadata": {},
     "output_type": "execute_result"
    }
   ],
   "source": [
    "df.dtypes"
   ]
  },
  {
   "cell_type": "markdown",
   "metadata": {},
   "source": [
    "##### Limpiando nombres de columnas"
   ]
  },
  {
   "cell_type": "code",
   "execution_count": 17,
   "metadata": {},
   "outputs": [],
   "source": [
    "df.columns = ['ID', 'Age', 'Gender', 'GPA', 'Study_Hours', 'Social_Media', \n",
    "            'Sleep', 'Exercise', 'Family_Support', 'Financial_Stress', \n",
    "            'Peer_Pressure', 'Relationship_Stress', 'Mental_Stress', \n",
    "            'Counseling', 'Diet', 'Coping_Strategies', 'Cognitive_Distortions', \n",
    "            'Mental_Health_History', 'Medical_Condition', 'Substance_Use']"
   ]
  },
  {
   "cell_type": "code",
   "execution_count": 30,
   "metadata": {},
   "outputs": [],
   "source": [
    "cat_cols = []\n",
    "\n",
    "for c in df.columns:\n",
    "    if(df[c].dtype == 'O'):\n",
    "        cat_cols.append(c)"
   ]
  },
  {
   "cell_type": "code",
   "execution_count": 31,
   "metadata": {},
   "outputs": [
    {
     "data": {
      "text/plain": [
       "['ID',\n",
       " 'Gender',\n",
       " 'Counseling',\n",
       " 'Coping_Strategies',\n",
       " 'Mental_Health_History',\n",
       " 'Medical_Condition']"
      ]
     },
     "execution_count": 31,
     "metadata": {},
     "output_type": "execute_result"
    }
   ],
   "source": [
    "cat_cols"
   ]
  },
  {
   "cell_type": "code",
   "execution_count": 33,
   "metadata": {},
   "outputs": [
    {
     "data": {
      "text/plain": [
       "'ID'"
      ]
     },
     "execution_count": 33,
     "metadata": {},
     "output_type": "execute_result"
    }
   ],
   "source": [
    "### Eliminando el id ya que el id no es una variable categorica util \n",
    "cat_cols.pop(0)"
   ]
  },
  {
   "cell_type": "code",
   "execution_count": 34,
   "metadata": {},
   "outputs": [
    {
     "data": {
      "text/plain": [
       "['Gender',\n",
       " 'Counseling',\n",
       " 'Coping_Strategies',\n",
       " 'Mental_Health_History',\n",
       " 'Medical_Condition']"
      ]
     },
     "execution_count": 34,
     "metadata": {},
     "output_type": "execute_result"
    }
   ],
   "source": [
    "cat_cols"
   ]
  }
 ],
 "metadata": {
  "kernelspec": {
   "display_name": "Teoria_De_La_Simulacion",
   "language": "python",
   "name": "python3"
  },
  "language_info": {
   "codemirror_mode": {
    "name": "ipython",
    "version": 3
   },
   "file_extension": ".py",
   "mimetype": "text/x-python",
   "name": "python",
   "nbconvert_exporter": "python",
   "pygments_lexer": "ipython3",
   "version": "3.12.8"
  }
 },
 "nbformat": 4,
 "nbformat_minor": 2
}
